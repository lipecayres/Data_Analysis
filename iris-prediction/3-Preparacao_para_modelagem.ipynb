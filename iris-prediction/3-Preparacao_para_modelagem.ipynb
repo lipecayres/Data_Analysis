{
  "cells": [
    {
      "cell_type": "markdown",
      "metadata": {
        "id": "lP0eMoCmU42A"
      },
      "source": [
        "#**Preparação para modelagem**"
      ]
    },
    {
      "cell_type": "markdown",
      "metadata": {
        "id": "vOP_l-FSXxLF"
      },
      "source": [
        "**Bibliotecas utilizadas**"
      ]
    },
    {
      "cell_type": "code",
      "execution_count": 1,
      "metadata": {
        "id": "t2AY0MCGXww8"
      },
      "outputs": [],
      "source": [
        "import numpy as np\n",
        "import pandas as pd\n",
        "\n",
        "from sklearn.model_selection import train_test_split\n",
        "from sklearn.preprocessing import StandardScaler\n",
        "from keras.utils import np_utils"
      ]
    },
    {
      "cell_type": "markdown",
      "metadata": {
        "id": "UX0ZF2jfXrpO"
      },
      "source": [
        "**Importar dados pre processados**"
      ]
    },
    {
      "cell_type": "code",
      "execution_count": 2,
      "metadata": {
        "colab": {
          "base_uri": "https://localhost:8080/"
        },
        "id": "xtIsk_OXXrOO",
        "outputId": "2c36cd9e-41d9-4aba-bc3b-298dc99648fd"
      },
      "outputs": [
        {
          "data": {
            "text/plain": [
              "(149, 5)"
            ]
          },
          "execution_count": 2,
          "metadata": {},
          "output_type": "execute_result"
        }
      ],
      "source": [
        "dataset = pd.read_csv(\"Dados_pre_processados.csv\")\n",
        "dataset.shape"
      ]
    },
    {
      "cell_type": "markdown",
      "metadata": {
        "id": "I41tQQ9nLW3c"
      },
      "source": [
        "**Divisão da base utilizada**"
      ]
    },
    {
      "cell_type": "code",
      "execution_count": 3,
      "metadata": {
        "id": "2TPqKLpYKoXz"
      },
      "outputs": [],
      "source": [
        "## Codificação da variavel resposta\n",
        "\n",
        "dataset.loc[dataset[\"class\"] == \"Setosa\", \"class\"] = 0\n",
        "dataset.loc[dataset[\"class\"] == \"Versicolor\", \"class\"] = 1\n",
        "dataset.loc[dataset[\"class\"] == \"Virginica\", \"class\"] = 2"
      ]
    },
    {
      "cell_type": "code",
      "execution_count": 4,
      "metadata": {
        "id": "vta-kSYkrZb1"
      },
      "outputs": [],
      "source": [
        "## Separação da variavel resposta\n",
        "\n",
        "X = dataset.loc[:, ['sepal-length', 'sepal-width', 'petal-length', 'petal-width']].values\n",
        "Y = dataset['class'].values"
      ]
    },
    {
      "cell_type": "code",
      "execution_count": 5,
      "metadata": {
        "id": "JPOTxRY0rpoD"
      },
      "outputs": [],
      "source": [
        "## Normalização dos dados\n",
        "\n",
        "sc = StandardScaler()\n",
        "X = sc.fit_transform(X)"
      ]
    },
    {
      "cell_type": "code",
      "execution_count": 6,
      "metadata": {
        "id": "yqRncTBaqXW2"
      },
      "outputs": [],
      "source": [
        "## Divisão em base de treinamento e teste\n",
        "\n",
        "X_treinamento, X_teste, y_treinamento, y_teste = train_test_split(X, Y, test_size = 0.25)"
      ]
    },
    {
      "cell_type": "code",
      "execution_count": 7,
      "metadata": {
        "id": "kFHAAJRDo3bu"
      },
      "outputs": [],
      "source": [
        "## Criação de variaveis dummy para a variavel Y\n",
        "\n",
        "y_treinamento = np_utils.to_categorical(y_treinamento, num_classes = 3)\n",
        "y_teste = np_utils.to_categorical(y_teste, num_classes = 3)"
      ]
    },
    {
      "cell_type": "markdown",
      "metadata": {
        "id": "15x_03nqdT3E"
      },
      "source": [
        "**Salvando dados**"
      ]
    },
    {
      "cell_type": "code",
      "execution_count": 8,
      "metadata": {
        "id": "-WrDCrVWdT3G"
      },
      "outputs": [],
      "source": [
        "import pickle\n",
        "# Gravando os dados para o modelo\n",
        "pickle.dump((X_treinamento, y_treinamento, X_teste, y_teste), open('Dados_para_modelo.sav', 'wb'))"
      ]
    },
    {
      "cell_type": "code",
      "execution_count": null,
      "metadata": {},
      "outputs": [],
      "source": []
    }
  ],
  "metadata": {
    "colab": {
      "provenance": []
    },
    "kernelspec": {
      "display_name": "Python 3.10.6 64-bit",
      "language": "python",
      "name": "python3"
    },
    "language_info": {
      "codemirror_mode": {
        "name": "ipython",
        "version": 3
      },
      "file_extension": ".py",
      "mimetype": "text/x-python",
      "name": "python",
      "nbconvert_exporter": "python",
      "pygments_lexer": "ipython3",
      "version": "3.10.6"
    },
    "vscode": {
      "interpreter": {
        "hash": "83b617c66aa9ed92efeb8629453f4b5eb61ab11a86f5ad7ba589d02897e9d812"
      }
    }
  },
  "nbformat": 4,
  "nbformat_minor": 0
}
