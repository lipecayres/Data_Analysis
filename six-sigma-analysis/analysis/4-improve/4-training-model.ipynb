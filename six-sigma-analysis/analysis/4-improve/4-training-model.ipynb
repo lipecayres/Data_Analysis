{
  "cells": [
    {
      "cell_type": "markdown",
      "metadata": {
        "id": "lP0eMoCmU42A"
      },
      "source": [
        "#**Modelagem**"
      ]
    },
    {
      "cell_type": "markdown",
      "metadata": {
        "id": "vOP_l-FSXxLF"
      },
      "source": [
        "**Bibliotecas utilizadas**"
      ]
    },
    {
      "cell_type": "code",
      "execution_count": 16,
      "metadata": {
        "id": "t2AY0MCGXww8"
      },
      "outputs": [],
      "source": [
        "import numpy as np\n",
        "import pandas as pd\n",
        "\n",
        "from keras.models import Sequential\n",
        "from keras.layers import Dense, Dropout\n",
        "from sklearn.metrics import confusion_matrix\n",
        "from sklearn.metrics import accuracy_score"
      ]
    },
    {
      "cell_type": "markdown",
      "metadata": {
        "id": "Q3r6jmyCYiWT"
      },
      "source": [
        "**Importando dados**"
      ]
    },
    {
      "cell_type": "code",
      "execution_count": 17,
      "metadata": {
        "id": "X_pdozdFYiWU"
      },
      "outputs": [],
      "source": [
        "import pickle\n",
        "# Lendo o modelo\n",
        "X_treinamento, y_treinamento, X_teste, y_teste = pickle.load(open('Dados_para_modelo.sav', 'rb'))"
      ]
    },
    {
      "cell_type": "markdown",
      "metadata": {
        "id": "58pCdo18fTx4"
      },
      "source": [
        "**Modelagem**"
      ]
    },
    {
      "cell_type": "code",
      "execution_count": 18,
      "metadata": {
        "colab": {
          "base_uri": "https://localhost:8080/"
        },
        "id": "ZOv7TIP3OC5v",
        "outputId": "09a658d7-5f60-487b-f58a-268ad715f967"
      },
      "outputs": [
        {
          "name": "stdout",
          "output_type": "stream",
          "text": [
            "Epoch 1/20\n",
            "3/3 [==============================] - 0s 65ms/step - loss: 1.0087 - accuracy: 0.5341 - val_loss: 0.7877 - val_accuracy: 0.6667\n",
            "Epoch 2/20\n",
            "3/3 [==============================] - 0s 15ms/step - loss: 0.8201 - accuracy: 0.6023 - val_loss: 0.7357 - val_accuracy: 0.6333\n",
            "Epoch 3/20\n",
            "3/3 [==============================] - 0s 15ms/step - loss: 0.7503 - accuracy: 0.6250 - val_loss: 0.7067 - val_accuracy: 0.5667\n",
            "Epoch 4/20\n",
            "3/3 [==============================] - 0s 15ms/step - loss: 0.7295 - accuracy: 0.6136 - val_loss: 0.6837 - val_accuracy: 0.6000\n",
            "Epoch 5/20\n",
            "3/3 [==============================] - 0s 16ms/step - loss: 0.7141 - accuracy: 0.6364 - val_loss: 0.6774 - val_accuracy: 0.5667\n",
            "Epoch 6/20\n",
            "3/3 [==============================] - 0s 16ms/step - loss: 0.7082 - accuracy: 0.6250 - val_loss: 0.6617 - val_accuracy: 0.6000\n",
            "Epoch 7/20\n",
            "3/3 [==============================] - 0s 17ms/step - loss: 0.6692 - accuracy: 0.6705 - val_loss: 0.6287 - val_accuracy: 0.6667\n",
            "Epoch 8/20\n",
            "3/3 [==============================] - 0s 16ms/step - loss: 0.6900 - accuracy: 0.6136 - val_loss: 0.6151 - val_accuracy: 0.7000\n",
            "Epoch 9/20\n",
            "3/3 [==============================] - 0s 16ms/step - loss: 0.6705 - accuracy: 0.6136 - val_loss: 0.6215 - val_accuracy: 0.7000\n",
            "Epoch 10/20\n",
            "3/3 [==============================] - 0s 15ms/step - loss: 0.6493 - accuracy: 0.6023 - val_loss: 0.6553 - val_accuracy: 0.6000\n",
            "Epoch 11/20\n",
            "3/3 [==============================] - 0s 15ms/step - loss: 0.6335 - accuracy: 0.6705 - val_loss: 0.6982 - val_accuracy: 0.5333\n",
            "Epoch 12/20\n",
            "3/3 [==============================] - 0s 15ms/step - loss: 0.6373 - accuracy: 0.6477 - val_loss: 0.6808 - val_accuracy: 0.5000\n",
            "Epoch 13/20\n",
            "3/3 [==============================] - 0s 15ms/step - loss: 0.6252 - accuracy: 0.6591 - val_loss: 0.6618 - val_accuracy: 0.6000\n",
            "Epoch 14/20\n",
            "3/3 [==============================] - 0s 16ms/step - loss: 0.6109 - accuracy: 0.6364 - val_loss: 0.6431 - val_accuracy: 0.6333\n",
            "Epoch 15/20\n",
            "3/3 [==============================] - 0s 17ms/step - loss: 0.6117 - accuracy: 0.6591 - val_loss: 0.6299 - val_accuracy: 0.6333\n",
            "Epoch 16/20\n",
            "3/3 [==============================] - 0s 16ms/step - loss: 0.6034 - accuracy: 0.6705 - val_loss: 0.6236 - val_accuracy: 0.6333\n",
            "Epoch 17/20\n",
            "3/3 [==============================] - 0s 15ms/step - loss: 0.5987 - accuracy: 0.6591 - val_loss: 0.6239 - val_accuracy: 0.6000\n",
            "Epoch 18/20\n",
            "3/3 [==============================] - 0s 16ms/step - loss: 0.5915 - accuracy: 0.6250 - val_loss: 0.6319 - val_accuracy: 0.5667\n",
            "Epoch 19/20\n",
            "3/3 [==============================] - 0s 16ms/step - loss: 0.5800 - accuracy: 0.6932 - val_loss: 0.6468 - val_accuracy: 0.5333\n",
            "Epoch 20/20\n",
            "3/3 [==============================] - 0s 17ms/step - loss: 0.6005 - accuracy: 0.6591 - val_loss: 0.6395 - val_accuracy: 0.5667\n"
          ]
        }
      ],
      "source": [
        "modelo = Sequential()\n",
        "modelo.add(Dense(units = 1000, activation = 'relu', input_dim = 4))\n",
        "modelo.add(Dropout(0.2))\n",
        "modelo.add(Dense(units = 500, activation = 'relu'))\n",
        "modelo.add(Dropout(0.2))\n",
        "\n",
        "modelo.add(Dense(units = 3, activation = 'softmax'))\n",
        "\n",
        "modelo.compile(optimizer = 'adam', loss = 'categorical_crossentropy', metrics = ['accuracy'])\n",
        "historico = modelo.fit(X_treinamento, y_treinamento, epochs = 20, validation_data = (X_teste, y_teste))"
      ]
    },
    {
      "cell_type": "markdown",
      "metadata": {
        "id": "MhoCwVVROa-t"
      },
      "source": [
        "**Avaliação do modelo**"
      ]
    },
    {
      "cell_type": "code",
      "execution_count": 19,
      "metadata": {
        "colab": {
          "base_uri": "https://localhost:8080/"
        },
        "id": "y4X30K1-OdLg",
        "outputId": "e14e235e-1dab-4a7c-b35c-7c133f9d6d0d"
      },
      "outputs": [
        {
          "name": "stdout",
          "output_type": "stream",
          "text": [
            "3/3 [==============================] - 0s 2ms/step\n",
            "Acurácia para a base de treinamento: 0.7500\n"
          ]
        }
      ],
      "source": [
        "# Base de treinamento\n",
        "\n",
        "previsoes = modelo.predict(X_treinamento)\n",
        "\n",
        "y_teste_matriz = [np.argmax(t) for t in y_treinamento]\n",
        "y_previsoes_matriz = [np.argmax(t) for t in previsoes]\n",
        "\n",
        "confusao = confusion_matrix(y_teste_matriz, y_previsoes_matriz)\n",
        "\n",
        "ACC = accuracy_score(y_teste_matriz, y_previsoes_matriz)\n",
        "\n",
        "print('Acurácia para a base de treinamento: {:.4f}'.format(ACC))"
      ]
    },
    {
      "cell_type": "code",
      "execution_count": 20,
      "metadata": {
        "colab": {
          "base_uri": "https://localhost:8080/"
        },
        "id": "gwhbd0SKOjr3",
        "outputId": "c2820713-d781-403f-d43b-87402c343c73"
      },
      "outputs": [
        {
          "name": "stdout",
          "output_type": "stream",
          "text": [
            "1/1 [==============================] - 0s 18ms/step\n",
            "Acurácia para a base de teste: 0.5667\n"
          ]
        }
      ],
      "source": [
        "# Base de teste\n",
        "\n",
        "previsoes = modelo.predict(X_teste)\n",
        "\n",
        "y_teste_matriz = [np.argmax(t) for t in y_teste]\n",
        "y_previsoes_matriz = [np.argmax(t) for t in previsoes]\n",
        "\n",
        "confusao = confusion_matrix(y_teste_matriz, y_previsoes_matriz)\n",
        "\n",
        "ACC = accuracy_score(y_teste_matriz, y_previsoes_matriz)\n",
        "\n",
        "print('Acurácia para a base de teste: {:.4f}'.format(ACC))"
      ]
    },
    {
      "cell_type": "code",
      "execution_count": null,
      "metadata": {
        "id": "VmUCVIGmETp3"
      },
      "outputs": [],
      "source": []
    }
  ],
  "metadata": {
    "colab": {
      "collapsed_sections": [],
      "provenance": []
    },
    "kernelspec": {
      "display_name": "Python 3.10.6 64-bit",
      "language": "python",
      "name": "python3"
    },
    "language_info": {
      "codemirror_mode": {
        "name": "ipython",
        "version": 3
      },
      "file_extension": ".py",
      "mimetype": "text/x-python",
      "name": "python",
      "nbconvert_exporter": "python",
      "pygments_lexer": "ipython3",
      "version": "3.10.6"
    },
    "vscode": {
      "interpreter": {
        "hash": "83b617c66aa9ed92efeb8629453f4b5eb61ab11a86f5ad7ba589d02897e9d812"
      }
    }
  },
  "nbformat": 4,
  "nbformat_minor": 0
}
