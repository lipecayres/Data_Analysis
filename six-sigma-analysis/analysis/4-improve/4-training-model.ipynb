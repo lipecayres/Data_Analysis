{
  "cells": [
    {
      "cell_type": "markdown",
      "metadata": {
        "id": "lP0eMoCmU42A"
      },
      "source": [
        "#**Modelagem**"
      ]
    },
    {
      "cell_type": "markdown",
      "metadata": {
        "id": "vOP_l-FSXxLF"
      },
      "source": [
        "**Bibliotecas utilizadas**"
      ]
    },
    {
      "cell_type": "code",
      "execution_count": 1,
      "metadata": {
        "id": "t2AY0MCGXww8"
      },
      "outputs": [],
      "source": [
        "import numpy as np\n",
        "import pandas as pd\n",
        "\n",
        "from keras.models import Sequential\n",
        "from keras.layers import Dense, Dropout\n",
        "from sklearn.metrics import confusion_matrix\n",
        "from sklearn.metrics import accuracy_score"
      ]
    },
    {
      "cell_type": "markdown",
      "metadata": {
        "id": "Q3r6jmyCYiWT"
      },
      "source": [
        "**Importando dados**"
      ]
    },
    {
      "cell_type": "code",
      "execution_count": 2,
      "metadata": {
        "id": "X_pdozdFYiWU"
      },
      "outputs": [],
      "source": [
        "import pickle\n",
        "# Lendo o modelo\n",
        "X_treinamento, y_treinamento, X_teste, y_teste = pickle.load(open('Dados_para_modelo.sav', 'rb'))"
      ]
    },
    {
      "cell_type": "markdown",
      "metadata": {
        "id": "58pCdo18fTx4"
      },
      "source": [
        "**Modelagem**"
      ]
    },
    {
      "cell_type": "code",
      "execution_count": 3,
      "metadata": {
        "colab": {
          "base_uri": "https://localhost:8080/"
        },
        "id": "ZOv7TIP3OC5v",
        "outputId": "09a658d7-5f60-487b-f58a-268ad715f967"
      },
      "outputs": [
        {
          "name": "stdout",
          "output_type": "stream",
          "text": [
            "Epoch 1/20\n",
            "3/3 [==============================] - 1s 111ms/step - loss: 0.8723 - accuracy: 0.6591 - val_loss: 0.5058 - val_accuracy: 0.9333\n",
            "Epoch 2/20\n",
            "3/3 [==============================] - 0s 18ms/step - loss: 0.3014 - accuracy: 0.9773 - val_loss: 0.5060 - val_accuracy: 0.9333\n",
            "Epoch 3/20\n",
            "3/3 [==============================] - 0s 21ms/step - loss: 0.1609 - accuracy: 0.9773 - val_loss: 0.6964 - val_accuracy: 0.9333\n",
            "Epoch 4/20\n",
            "3/3 [==============================] - 0s 20ms/step - loss: 0.1504 - accuracy: 0.9773 - val_loss: 0.9014 - val_accuracy: 0.9333\n",
            "Epoch 5/20\n",
            "3/3 [==============================] - 0s 22ms/step - loss: 0.1532 - accuracy: 0.9773 - val_loss: 1.0692 - val_accuracy: 0.9333\n",
            "Epoch 6/20\n",
            "3/3 [==============================] - 0s 21ms/step - loss: 0.1566 - accuracy: 0.9773 - val_loss: 1.1913 - val_accuracy: 0.9333\n",
            "Epoch 7/20\n",
            "3/3 [==============================] - 0s 21ms/step - loss: 0.1441 - accuracy: 0.9773 - val_loss: 1.2803 - val_accuracy: 0.9333\n",
            "Epoch 8/20\n",
            "3/3 [==============================] - 0s 25ms/step - loss: 0.1269 - accuracy: 0.9773 - val_loss: 1.3425 - val_accuracy: 0.9333\n",
            "Epoch 9/20\n",
            "3/3 [==============================] - 0s 22ms/step - loss: 0.1055 - accuracy: 0.9773 - val_loss: 1.3872 - val_accuracy: 0.9333\n",
            "Epoch 10/20\n",
            "3/3 [==============================] - 0s 25ms/step - loss: 0.0896 - accuracy: 0.9773 - val_loss: 1.4188 - val_accuracy: 0.9333\n",
            "Epoch 11/20\n",
            "3/3 [==============================] - 0s 24ms/step - loss: 0.0841 - accuracy: 0.9773 - val_loss: 1.4439 - val_accuracy: 0.9333\n",
            "Epoch 12/20\n",
            "3/3 [==============================] - 0s 24ms/step - loss: 0.0795 - accuracy: 0.9773 - val_loss: 1.4640 - val_accuracy: 0.9333\n",
            "Epoch 13/20\n",
            "3/3 [==============================] - 0s 28ms/step - loss: 0.0718 - accuracy: 0.9773 - val_loss: 1.4795 - val_accuracy: 0.9333\n",
            "Epoch 14/20\n",
            "3/3 [==============================] - 0s 27ms/step - loss: 0.0674 - accuracy: 0.9773 - val_loss: 1.4960 - val_accuracy: 0.9333\n",
            "Epoch 15/20\n",
            "3/3 [==============================] - 0s 27ms/step - loss: 0.0651 - accuracy: 0.9773 - val_loss: 1.5122 - val_accuracy: 0.9333\n",
            "Epoch 16/20\n",
            "3/3 [==============================] - 0s 17ms/step - loss: 0.0634 - accuracy: 0.9773 - val_loss: 1.5324 - val_accuracy: 0.9333\n",
            "Epoch 17/20\n",
            "3/3 [==============================] - 0s 18ms/step - loss: 0.0585 - accuracy: 0.9773 - val_loss: 1.5536 - val_accuracy: 0.9333\n",
            "Epoch 18/20\n",
            "3/3 [==============================] - 0s 19ms/step - loss: 0.0566 - accuracy: 0.9773 - val_loss: 1.5765 - val_accuracy: 0.9333\n",
            "Epoch 19/20\n",
            "3/3 [==============================] - 0s 18ms/step - loss: 0.0550 - accuracy: 0.9773 - val_loss: 1.6009 - val_accuracy: 0.9333\n",
            "Epoch 20/20\n",
            "3/3 [==============================] - 0s 18ms/step - loss: 0.0518 - accuracy: 0.9773 - val_loss: 1.6272 - val_accuracy: 0.9333\n"
          ]
        }
      ],
      "source": [
        "modelo = Sequential()\n",
        "modelo.add(Dense(units = 1000, activation = 'relu', input_dim = 4))\n",
        "modelo.add(Dropout(0.2))\n",
        "modelo.add(Dense(units = 500, activation = 'relu'))\n",
        "modelo.add(Dropout(0.2))\n",
        "\n",
        "modelo.add(Dense(units = 3, activation = 'softmax'))\n",
        "\n",
        "modelo.compile(optimizer = 'adam', loss = 'categorical_crossentropy', metrics = ['accuracy'])\n",
        "historico = modelo.fit(X_treinamento, y_treinamento, epochs = 20, validation_data = (X_teste, y_teste))"
      ]
    },
    {
      "cell_type": "markdown",
      "metadata": {
        "id": "MhoCwVVROa-t"
      },
      "source": [
        "**Avaliação do modelo**"
      ]
    },
    {
      "cell_type": "code",
      "execution_count": 4,
      "metadata": {
        "colab": {
          "base_uri": "https://localhost:8080/"
        },
        "id": "y4X30K1-OdLg",
        "outputId": "e14e235e-1dab-4a7c-b35c-7c133f9d6d0d"
      },
      "outputs": [
        {
          "name": "stdout",
          "output_type": "stream",
          "text": [
            "3/3 [==============================] - 0s 2ms/step\n",
            "Acurácia para a base de treinamento: 0.9773\n"
          ]
        }
      ],
      "source": [
        "# Base de treinamento\n",
        "\n",
        "previsoes = modelo.predict(X_treinamento)\n",
        "\n",
        "y_teste_matriz = [np.argmax(t) for t in y_treinamento]\n",
        "y_previsoes_matriz = [np.argmax(t) for t in previsoes]\n",
        "\n",
        "confusao = confusion_matrix(y_teste_matriz, y_previsoes_matriz)\n",
        "\n",
        "ACC = accuracy_score(y_teste_matriz, y_previsoes_matriz)\n",
        "\n",
        "print('Acurácia para a base de treinamento: {:.4f}'.format(ACC))"
      ]
    },
    {
      "cell_type": "code",
      "execution_count": 5,
      "metadata": {
        "colab": {
          "base_uri": "https://localhost:8080/"
        },
        "id": "gwhbd0SKOjr3",
        "outputId": "c2820713-d781-403f-d43b-87402c343c73"
      },
      "outputs": [
        {
          "name": "stdout",
          "output_type": "stream",
          "text": [
            "1/1 [==============================] - 0s 20ms/step\n",
            "Acurácia para a base de teste: 0.9333\n"
          ]
        }
      ],
      "source": [
        "# Base de teste\n",
        "\n",
        "previsoes = modelo.predict(X_teste)\n",
        "\n",
        "y_teste_matriz = [np.argmax(t) for t in y_teste]\n",
        "y_previsoes_matriz = [np.argmax(t) for t in previsoes]\n",
        "\n",
        "confusao = confusion_matrix(y_teste_matriz, y_previsoes_matriz)\n",
        "\n",
        "ACC = accuracy_score(y_teste_matriz, y_previsoes_matriz)\n",
        "\n",
        "print('Acurácia para a base de teste: {:.4f}'.format(ACC))"
      ]
    },
    {
      "cell_type": "code",
      "execution_count": null,
      "metadata": {
        "id": "VmUCVIGmETp3"
      },
      "outputs": [],
      "source": []
    }
  ],
  "metadata": {
    "colab": {
      "collapsed_sections": [],
      "provenance": []
    },
    "kernelspec": {
      "display_name": "Python 3.10.6 64-bit",
      "language": "python",
      "name": "python3"
    },
    "language_info": {
      "codemirror_mode": {
        "name": "ipython",
        "version": 3
      },
      "file_extension": ".py",
      "mimetype": "text/x-python",
      "name": "python",
      "nbconvert_exporter": "python",
      "pygments_lexer": "ipython3",
      "version": "3.10.6"
    },
    "vscode": {
      "interpreter": {
        "hash": "83b617c66aa9ed92efeb8629453f4b5eb61ab11a86f5ad7ba589d02897e9d812"
      }
    }
  },
  "nbformat": 4,
  "nbformat_minor": 0
}
