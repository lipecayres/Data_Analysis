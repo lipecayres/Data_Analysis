{
  "cells": [
    {
      "cell_type": "markdown",
      "metadata": {
        "id": "lP0eMoCmU42A"
      },
      "source": [
        "**Data Analysis - Weight Loss Prediction**"
      ]
    },
    {
      "cell_type": "markdown",
      "metadata": {
        "id": "lP0eMoCmU42A"
      },
      "source": [
        "**Pre Processamento**"
      ]
    },
    {
      "cell_type": "markdown",
      "metadata": {
        "id": "vjvLqYJ_VAqy"
      },
      "source": [
        "A base de dados a ser utilizada será o conjunto de dados de uma, conjunto de dados muito famoso na análise de dados. Este famoso conjunto de dados apresenta as medidas em centímetros das variáveis comprimento e largura da sépala e comprimento e largura da pétala, respectivamente, para 50 flores de cada uma das 3 espécies de íris. As espécies são Iris setosa, versicolor e virginica.\n",
        "\n",
        "O objetivo do modelo a ser ajustado é de com base nas medidas fornecidas classificar cada uma das flores como uma das três categorias."
      ]
    },
    {
      "cell_type": "markdown",
      "metadata": {
        "id": "0Zrn-B0cLcC7"
      },
      "source": [
        "**Bibliotecas e conjunto de dados utilizados**"
      ]
    },
    {
      "cell_type": "code",
      "execution_count": 1,
      "metadata": {
        "id": "_MDCKBb8LbpO"
      },
      "outputs": [],
      "source": [
        "import numpy as np\n",
        "import pandas as pd"
      ]
    },
    {
      "cell_type": "code",
      "execution_count": 2,
      "metadata": {
        "id": "pfJFnWytgICi"
      },
      "outputs": [],
      "source": [
        "names = ['weight-before', 'cookie-thickness', 'cookie-length', 'cookie-width', 'status']\n",
        "dataset = pd.read_csv(\"data-control-limits.csv\", names = names)"
      ]
    },
    {
      "cell_type": "code",
      "execution_count": 3,
      "metadata": {
        "colab": {
          "base_uri": "https://localhost:8080/",
          "height": 206
        },
        "id": "R8YQSc2rlVqW",
        "outputId": "db3a9b8e-bdec-4d89-c262-1f59394b86b9"
      },
      "outputs": [
        {
          "data": {
            "text/html": [
              "<div>\n",
              "<style scoped>\n",
              "    .dataframe tbody tr th:only-of-type {\n",
              "        vertical-align: middle;\n",
              "    }\n",
              "\n",
              "    .dataframe tbody tr th {\n",
              "        vertical-align: top;\n",
              "    }\n",
              "\n",
              "    .dataframe thead th {\n",
              "        text-align: right;\n",
              "    }\n",
              "</style>\n",
              "<table border=\"1\" class=\"dataframe\">\n",
              "  <thead>\n",
              "    <tr style=\"text-align: right;\">\n",
              "      <th></th>\n",
              "      <th>weight-before</th>\n",
              "      <th>cookie-thickness</th>\n",
              "      <th>cookie-length</th>\n",
              "      <th>cookie-width</th>\n",
              "      <th>status</th>\n",
              "    </tr>\n",
              "  </thead>\n",
              "  <tbody>\n",
              "    <tr>\n",
              "      <th>0</th>\n",
              "      <td>5.51</td>\n",
              "      <td>7.88</td>\n",
              "      <td>40.38</td>\n",
              "      <td>39.82</td>\n",
              "      <td>Attention</td>\n",
              "    </tr>\n",
              "    <tr>\n",
              "      <th>1</th>\n",
              "      <td>5.72</td>\n",
              "      <td>8.60</td>\n",
              "      <td>39.92</td>\n",
              "      <td>39.70</td>\n",
              "      <td>Attention</td>\n",
              "    </tr>\n",
              "    <tr>\n",
              "      <th>2</th>\n",
              "      <td>5.57</td>\n",
              "      <td>8.27</td>\n",
              "      <td>39.46</td>\n",
              "      <td>39.34</td>\n",
              "      <td>Attention</td>\n",
              "    </tr>\n",
              "    <tr>\n",
              "      <th>3</th>\n",
              "      <td>5.68</td>\n",
              "      <td>8.28</td>\n",
              "      <td>40.28</td>\n",
              "      <td>39.82</td>\n",
              "      <td>OK</td>\n",
              "    </tr>\n",
              "    <tr>\n",
              "      <th>4</th>\n",
              "      <td>5.19</td>\n",
              "      <td>8.61</td>\n",
              "      <td>39.06</td>\n",
              "      <td>39.62</td>\n",
              "      <td>OK</td>\n",
              "    </tr>\n",
              "  </tbody>\n",
              "</table>\n",
              "</div>"
            ],
            "text/plain": [
              "   weight-before  cookie-thickness  cookie-length  cookie-width     status\n",
              "0           5.51              7.88          40.38         39.82  Attention\n",
              "1           5.72              8.60          39.92         39.70  Attention\n",
              "2           5.57              8.27          39.46         39.34  Attention\n",
              "3           5.68              8.28          40.28         39.82         OK\n",
              "4           5.19              8.61          39.06         39.62         OK"
            ]
          },
          "execution_count": 3,
          "metadata": {},
          "output_type": "execute_result"
        }
      ],
      "source": [
        "dataset.head()"
      ]
    },
    {
      "cell_type": "markdown",
      "metadata": {
        "id": "n_Lcx6fJV1Of"
      },
      "source": [
        "**Verificando o tipo de dados**"
      ]
    },
    {
      "cell_type": "code",
      "execution_count": 4,
      "metadata": {
        "colab": {
          "base_uri": "https://localhost:8080/"
        },
        "id": "kb9kgTMUUmfT",
        "outputId": "8fe426d7-c63e-453c-ceab-97993c4d3d53"
      },
      "outputs": [
        {
          "data": {
            "text/plain": [
              "weight-before       float64\n",
              "cookie-thickness    float64\n",
              "cookie-length       float64\n",
              "cookie-width        float64\n",
              "status               object\n",
              "dtype: object"
            ]
          },
          "execution_count": 4,
          "metadata": {},
          "output_type": "execute_result"
        }
      ],
      "source": [
        "dataset.dtypes"
      ]
    },
    {
      "cell_type": "markdown",
      "metadata": {
        "id": "laHQsakzRHhU"
      },
      "source": [
        "**Verificando duplicatas de dados**"
      ]
    },
    {
      "cell_type": "code",
      "execution_count": 5,
      "metadata": {
        "colab": {
          "base_uri": "https://localhost:8080/",
          "height": 98
        },
        "id": "p5dVuCyKRHha",
        "outputId": "4e2eab5d-5756-4fd8-a9e3-cf6311690fe7"
      },
      "outputs": [
        {
          "name": "stdout",
          "output_type": "stream",
          "text": [
            "(0, 5)\n"
          ]
        },
        {
          "data": {
            "text/html": [
              "<div>\n",
              "<style scoped>\n",
              "    .dataframe tbody tr th:only-of-type {\n",
              "        vertical-align: middle;\n",
              "    }\n",
              "\n",
              "    .dataframe tbody tr th {\n",
              "        vertical-align: top;\n",
              "    }\n",
              "\n",
              "    .dataframe thead th {\n",
              "        text-align: right;\n",
              "    }\n",
              "</style>\n",
              "<table border=\"1\" class=\"dataframe\">\n",
              "  <thead>\n",
              "    <tr style=\"text-align: right;\">\n",
              "      <th></th>\n",
              "      <th>weight-before</th>\n",
              "      <th>cookie-thickness</th>\n",
              "      <th>cookie-length</th>\n",
              "      <th>cookie-width</th>\n",
              "      <th>status</th>\n",
              "    </tr>\n",
              "  </thead>\n",
              "  <tbody>\n",
              "  </tbody>\n",
              "</table>\n",
              "</div>"
            ],
            "text/plain": [
              "Empty DataFrame\n",
              "Columns: [weight-before, cookie-thickness, cookie-length, cookie-width, status]\n",
              "Index: []"
            ]
          },
          "execution_count": 5,
          "metadata": {},
          "output_type": "execute_result"
        }
      ],
      "source": [
        "duplicatas = dataset[dataset.duplicated()]\n",
        "print(duplicatas.shape)\n",
        "duplicatas.head()"
      ]
    },
    {
      "cell_type": "code",
      "execution_count": 6,
      "metadata": {
        "colab": {
          "base_uri": "https://localhost:8080/"
        },
        "id": "c8IKsdrkRHhs",
        "outputId": "e9379601-8139-4398-97df-2a73aad3ecd1"
      },
      "outputs": [
        {
          "data": {
            "text/plain": [
              "(118, 5)"
            ]
          },
          "execution_count": 6,
          "metadata": {},
          "output_type": "execute_result"
        }
      ],
      "source": [
        "dataset.drop_duplicates(inplace=True)\n",
        "dataset.shape"
      ]
    },
    {
      "cell_type": "markdown",
      "metadata": {
        "id": "Y4nDY2SZRHhy"
      },
      "source": [
        "**Verificando valores nulos (missing)**"
      ]
    },
    {
      "cell_type": "code",
      "execution_count": 7,
      "metadata": {
        "colab": {
          "base_uri": "https://localhost:8080/"
        },
        "id": "HfeE0etURHh0",
        "outputId": "7e555a64-896c-4eff-dfbf-9767c795021d"
      },
      "outputs": [
        {
          "data": {
            "text/plain": [
              "False"
            ]
          },
          "execution_count": 7,
          "metadata": {},
          "output_type": "execute_result"
        }
      ],
      "source": [
        "dataset.isnull().values.any()"
      ]
    },
    {
      "cell_type": "code",
      "execution_count": 8,
      "metadata": {
        "colab": {
          "base_uri": "https://localhost:8080/"
        },
        "id": "08ss4JDoRHh9",
        "outputId": "11e846be-4038-4123-d177-2109b426a6bd"
      },
      "outputs": [
        {
          "name": "stdout",
          "output_type": "stream",
          "text": [
            "weight-before       0\n",
            "cookie-thickness    0\n",
            "cookie-length       0\n",
            "cookie-width        0\n",
            "status              0\n",
            "dtype: int64\n",
            "\n",
            "Total de valores missing: 0\n"
          ]
        }
      ],
      "source": [
        "print(dataset.isna().sum())\n",
        "print(f'\\nTotal de valores missing: {dataset.isna().sum().sum()}')"
      ]
    },
    {
      "cell_type": "markdown",
      "metadata": {
        "id": "gsSWJPd7RHjh"
      },
      "source": [
        "**Salvando o banco de dados após pre-processamento**"
      ]
    },
    {
      "cell_type": "code",
      "execution_count": 9,
      "metadata": {
        "colab": {
          "base_uri": "https://localhost:8080/",
          "height": 424
        },
        "id": "rN7LCTQjRHji",
        "outputId": "87737b94-6657-4e13-c526-074f04d797bf"
      },
      "outputs": [
        {
          "data": {
            "text/html": [
              "<div>\n",
              "<style scoped>\n",
              "    .dataframe tbody tr th:only-of-type {\n",
              "        vertical-align: middle;\n",
              "    }\n",
              "\n",
              "    .dataframe tbody tr th {\n",
              "        vertical-align: top;\n",
              "    }\n",
              "\n",
              "    .dataframe thead th {\n",
              "        text-align: right;\n",
              "    }\n",
              "</style>\n",
              "<table border=\"1\" class=\"dataframe\">\n",
              "  <thead>\n",
              "    <tr style=\"text-align: right;\">\n",
              "      <th></th>\n",
              "      <th>weight-before</th>\n",
              "      <th>cookie-thickness</th>\n",
              "      <th>cookie-length</th>\n",
              "      <th>cookie-width</th>\n",
              "      <th>status</th>\n",
              "    </tr>\n",
              "  </thead>\n",
              "  <tbody>\n",
              "    <tr>\n",
              "      <th>0</th>\n",
              "      <td>5.51</td>\n",
              "      <td>7.88</td>\n",
              "      <td>40.38</td>\n",
              "      <td>39.82</td>\n",
              "      <td>Attention</td>\n",
              "    </tr>\n",
              "    <tr>\n",
              "      <th>1</th>\n",
              "      <td>5.72</td>\n",
              "      <td>8.60</td>\n",
              "      <td>39.92</td>\n",
              "      <td>39.70</td>\n",
              "      <td>Attention</td>\n",
              "    </tr>\n",
              "    <tr>\n",
              "      <th>2</th>\n",
              "      <td>5.57</td>\n",
              "      <td>8.27</td>\n",
              "      <td>39.46</td>\n",
              "      <td>39.34</td>\n",
              "      <td>Attention</td>\n",
              "    </tr>\n",
              "    <tr>\n",
              "      <th>3</th>\n",
              "      <td>5.68</td>\n",
              "      <td>8.28</td>\n",
              "      <td>40.28</td>\n",
              "      <td>39.82</td>\n",
              "      <td>OK</td>\n",
              "    </tr>\n",
              "    <tr>\n",
              "      <th>4</th>\n",
              "      <td>5.19</td>\n",
              "      <td>8.61</td>\n",
              "      <td>39.06</td>\n",
              "      <td>39.62</td>\n",
              "      <td>OK</td>\n",
              "    </tr>\n",
              "    <tr>\n",
              "      <th>...</th>\n",
              "      <td>...</td>\n",
              "      <td>...</td>\n",
              "      <td>...</td>\n",
              "      <td>...</td>\n",
              "      <td>...</td>\n",
              "    </tr>\n",
              "    <tr>\n",
              "      <th>113</th>\n",
              "      <td>5.36</td>\n",
              "      <td>8.30</td>\n",
              "      <td>39.92</td>\n",
              "      <td>39.42</td>\n",
              "      <td>OK</td>\n",
              "    </tr>\n",
              "    <tr>\n",
              "      <th>114</th>\n",
              "      <td>5.13</td>\n",
              "      <td>8.31</td>\n",
              "      <td>40.08</td>\n",
              "      <td>40.14</td>\n",
              "      <td>OK</td>\n",
              "    </tr>\n",
              "    <tr>\n",
              "      <th>115</th>\n",
              "      <td>5.53</td>\n",
              "      <td>8.41</td>\n",
              "      <td>39.96</td>\n",
              "      <td>39.76</td>\n",
              "      <td>OK</td>\n",
              "    </tr>\n",
              "    <tr>\n",
              "      <th>116</th>\n",
              "      <td>5.02</td>\n",
              "      <td>8.47</td>\n",
              "      <td>39.52</td>\n",
              "      <td>39.58</td>\n",
              "      <td>OK</td>\n",
              "    </tr>\n",
              "    <tr>\n",
              "      <th>117</th>\n",
              "      <td>5.55</td>\n",
              "      <td>8.70</td>\n",
              "      <td>40.30</td>\n",
              "      <td>40.12</td>\n",
              "      <td>OUT</td>\n",
              "    </tr>\n",
              "  </tbody>\n",
              "</table>\n",
              "<p>118 rows × 5 columns</p>\n",
              "</div>"
            ],
            "text/plain": [
              "     weight-before  cookie-thickness  cookie-length  cookie-width     status\n",
              "0             5.51              7.88          40.38         39.82  Attention\n",
              "1             5.72              8.60          39.92         39.70  Attention\n",
              "2             5.57              8.27          39.46         39.34  Attention\n",
              "3             5.68              8.28          40.28         39.82         OK\n",
              "4             5.19              8.61          39.06         39.62         OK\n",
              "..             ...               ...            ...           ...        ...\n",
              "113           5.36              8.30          39.92         39.42         OK\n",
              "114           5.13              8.31          40.08         40.14         OK\n",
              "115           5.53              8.41          39.96         39.76         OK\n",
              "116           5.02              8.47          39.52         39.58         OK\n",
              "117           5.55              8.70          40.30         40.12        OUT\n",
              "\n",
              "[118 rows x 5 columns]"
            ]
          },
          "execution_count": 9,
          "metadata": {},
          "output_type": "execute_result"
        }
      ],
      "source": [
        "dataset.to_csv('Dados_pre_processados.csv', index = False)\n",
        "dataset\n"
      ]
    },
    {
      "cell_type": "code",
      "execution_count": null,
      "metadata": {},
      "outputs": [],
      "source": []
    }
  ],
  "metadata": {
    "colab": {
      "collapsed_sections": [],
      "provenance": []
    },
    "kernelspec": {
      "display_name": "Python 3.10.6 64-bit",
      "language": "python",
      "name": "python3"
    },
    "language_info": {
      "codemirror_mode": {
        "name": "ipython",
        "version": 3
      },
      "file_extension": ".py",
      "mimetype": "text/x-python",
      "name": "python",
      "nbconvert_exporter": "python",
      "pygments_lexer": "ipython3",
      "version": "3.10.6"
    },
    "vscode": {
      "interpreter": {
        "hash": "83b617c66aa9ed92efeb8629453f4b5eb61ab11a86f5ad7ba589d02897e9d812"
      }
    }
  },
  "nbformat": 4,
  "nbformat_minor": 0
}
